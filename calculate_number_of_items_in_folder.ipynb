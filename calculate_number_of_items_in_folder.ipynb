{
  "nbformat": 4,
  "nbformat_minor": 0,
  "metadata": {
    "colab": {
      "name": "calculate number of items in folder.ipynb",
      "provenance": []
    },
    "kernelspec": {
      "name": "python3",
      "display_name": "Python 3"
    },
    "language_info": {
      "name": "python"
    }
  },
  "cells": [
    {
      "cell_type": "code",
      "execution_count": 1,
      "metadata": {
        "id": "rTJjEV4cJeXx"
      },
      "outputs": [],
      "source": [
        "import os"
      ]
    },
    {
      "cell_type": "code",
      "source": [
        "from google.colab import drive\n",
        "drive.mount('/content/drive/')\n"
      ],
      "metadata": {
        "id": "DId89gttJjRB",
        "colab": {
          "base_uri": "https://localhost:8080/"
        },
        "outputId": "8bb75a61-29b2-43bf-acfd-00a9e38ba4b3"
      },
      "execution_count": 2,
      "outputs": [
        {
          "output_type": "stream",
          "name": "stdout",
          "text": [
            "Mounted at /content/drive/\n"
          ]
        }
      ]
    },
    {
      "cell_type": "code",
      "source": [
        "path1= \"/content/drive/MyDrive/pfe/karim/dz_dataset/\""
      ],
      "metadata": {
        "id": "GIxolgxaK2k0"
      },
      "execution_count": 5,
      "outputs": []
    },
    {
      "cell_type": "code",
      "source": [
        "x=0\n",
        "for folders in  os.listdir(path1) : \n",
        "  x=x+1"
      ],
      "metadata": {
        "id": "M8Gl-8LbKMP6"
      },
      "execution_count": 6,
      "outputs": []
    },
    {
      "cell_type": "code",
      "source": [
        "print(x)"
      ],
      "metadata": {
        "colab": {
          "base_uri": "https://localhost:8080/"
        },
        "id": "wDa8xPvPKaON",
        "outputId": "d979f1c5-0b9e-48b9-8455-13524bf25a30"
      },
      "execution_count": 7,
      "outputs": [
        {
          "output_type": "stream",
          "name": "stdout",
          "text": [
            "2\n"
          ]
        }
      ]
    }
  ]
}